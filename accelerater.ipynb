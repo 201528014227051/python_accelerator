{
 "cells": [
  {
   "cell_type": "code",
   "execution_count": 29,
   "metadata": {},
   "outputs": [
    {
     "name": "stdout",
     "output_type": "stream",
     "text": [
      "1574306059.096741\n",
      "1574306059.446761\n",
      "origin time:0.3500206\n",
      "1574306059.4477608\n",
      "1574306059.7547786\n",
      "accelated time:0.3070186\n",
      "gap:0.0430026\n",
      "acc percent:12.2856236%\n"
     ]
    }
   ],
   "source": [
    "# 一行的for循环\n",
    "\n",
    "import numpy as np\n",
    "import time\n",
    "def test_op(i):\n",
    "    return np.sqrt(i**2+i**3)\n",
    "t1 = time.time()\n",
    "print(t1)\n",
    "out = []\n",
    "for i in range(100000):\n",
    "    out.append(test_op(i))\n",
    "t2 = time.time()\n",
    "ori = t2 - t1\n",
    "print(t2)\n",
    "print('origin time:%f6'%ori)\n",
    "\n",
    "t1 = time.time()\n",
    "out = [test_op(i) for i in range(100000)]\n",
    "t2 = time.time()\n",
    "print(t1)\n",
    "print(t2)\n",
    "acc = t2 - t1\n",
    "print('accelated time:%f6'%acc)\n",
    "print('gap:%f6'%(ori-acc))\n",
    "print('acc percent:%f6%%'%((ori-acc)/ori*100))"
   ]
  },
  {
   "cell_type": "code",
   "execution_count": 32,
   "metadata": {},
   "outputs": [
    {
     "name": "stdout",
     "output_type": "stream",
     "text": [
      "1574306108.9555926\n",
      "1574306109.244609\n",
      "origin time:0.2890166\n",
      "1574306109.2456093\n",
      "1574306109.5136247\n",
      "accelated time:0.2680156\n",
      "gap:0.0210016\n",
      "acc percent:7.2664026%\n"
     ]
    }
   ],
   "source": [
    "# lambda代替\n",
    "import numpy as np\n",
    "import time\n",
    "def test_op(i):\n",
    "    return np.sqrt(i**2+i**3)\n",
    "test_op_lam = lambda i:np.sqrt(i**2+i**3)\n",
    "t1 = time.time()\n",
    "print(t1)\n",
    "out = []\n",
    "out = [test_op(i) for i in range(100000)]\n",
    "t2 = time.time()\n",
    "ori = t2 - t1\n",
    "print(t2)\n",
    "print('origin time:%f6'%ori)\n",
    "\n",
    "t1 = time.time()\n",
    "out = [test_op_lam(i) for i in range(100000)]\n",
    "t2 = time.time()\n",
    "print(t1)\n",
    "print(t2)\n",
    "acc = t2 - t1\n",
    "print('accelated time:%f6'%acc)\n",
    "print('gap:%f6'%(ori-acc))\n",
    "print('acc percent:%f6%%'%((ori-acc)/ori*100))"
   ]
  },
  {
   "cell_type": "code",
   "execution_count": 33,
   "metadata": {},
   "outputs": [
    {
     "name": "stdout",
     "output_type": "stream",
     "text": [
      "1574306115.1489468\n",
      "1574306115.4259627\n",
      "origin time:0.2770166\n",
      "1574306115.4259627\n",
      "1574306115.4819658\n",
      "accelated time:0.0560036\n",
      "gap:0.2210136\n",
      "acc percent:79.7834396%\n"
     ]
    }
   ],
   "source": [
    "# numba\n",
    "# anaconda > virtualenv venv\n",
    "from numba import jit\n",
    "import numpy as np\n",
    "import time\n",
    "@jit\n",
    "def test_op(i):\n",
    "    return np.sqrt(i**2+i**3)\n",
    "\n",
    "# without git\n",
    "def test_op2(i):\n",
    "    return np.sqrt(i**2+i**3)\n",
    "t1 = time.time()\n",
    "print(t1)\n",
    "out = []\n",
    "out = [test_op2(i) for i in range(100000)]\n",
    "t2 = time.time()\n",
    "ori = t2 - t1\n",
    "print(t2)\n",
    "print('origin time:%f6'%ori)\n",
    "\n",
    "t1 = time.time()\n",
    "out = [test_op(i) for i in range(100000)]\n",
    "t2 = time.time()\n",
    "print(t1)\n",
    "print(t2)\n",
    "acc = t2 - t1\n",
    "print('accelated time:%f6'%acc)\n",
    "print('gap:%f6'%(ori-acc))\n",
    "print('acc percent:%f6%%'%((ori-acc)/ori*100))"
   ]
  },
  {
   "cell_type": "code",
   "execution_count": 35,
   "metadata": {},
   "outputs": [
    {
     "name": "stdout",
     "output_type": "stream",
     "text": [
      "1574306374.9798083\n",
      "1574306375.041812\n",
      "numba time:0.0620046\n",
      "1574306375.041812\n",
      "1574306375.3728306\n",
      "lambada time:0.3310196\n",
      "gap:0.2690156\n",
      "acc percent:81.2688486%\n"
     ]
    }
   ],
   "source": [
    "# lambda or numba?\n",
    "\n",
    "#https://blog.csdn.net/m0_37052320/article/details/78839477\n",
    "from numba import jit\n",
    "import numpy as np\n",
    "import time\n",
    "@jit\n",
    "def test_op(i):\n",
    "    return np.sqrt(i**2+i**3)\n",
    "test_op_lam = lambda i:np.sqrt(i**2+i**3)\n",
    "t1 = time.time()\n",
    "print(t1)\n",
    "out = []\n",
    "out = [test_op(i) for i in range(100000)]\n",
    "t2 = time.time()\n",
    "ori = t2 - t1\n",
    "print(t2)\n",
    "print('numba time:%f6'%ori)\n",
    "\n",
    "t1 = time.time()\n",
    "out = [test_op_lam(i) for i in range(100000)]\n",
    "t2 = time.time()\n",
    "print(t1)\n",
    "print(t2)\n",
    "acc = t2 - t1\n",
    "print('lambada time:%f6'%acc)\n",
    "gap = ori-acc if ori>acc else acc-ori\n",
    "ori = ori if ori>acc else acc\n",
    "print('gap:%f6'%(gap))\n",
    "print('acc percent:%f6%%'%((gap)/ori*100))"
   ]
  },
  {
   "cell_type": "code",
   "execution_count": 36,
   "metadata": {},
   "outputs": [
    {
     "ename": "ModuleNotFoundError",
     "evalue": "No module named 'apex'",
     "output_type": "error",
     "traceback": [
      "\u001b[1;31m---------------------------------------------------------------------------\u001b[0m",
      "\u001b[1;31mModuleNotFoundError\u001b[0m                       Traceback (most recent call last)",
      "\u001b[1;32m<ipython-input-36-d7a3eb3f1655>\u001b[0m in \u001b[0;36m<module>\u001b[1;34m()\u001b[0m\n\u001b[1;32m----> 1\u001b[1;33m \u001b[1;32mfrom\u001b[0m \u001b[0mapex\u001b[0m \u001b[1;32mimport\u001b[0m \u001b[0mamp\u001b[0m\u001b[1;33m\u001b[0m\u001b[0m\n\u001b[0m",
      "\u001b[1;31mModuleNotFoundError\u001b[0m: No module named 'apex'"
     ]
    }
   ],
   "source": [
    "#from apex import amp"
   ]
  },
  {
   "cell_type": "code",
   "execution_count": null,
   "metadata": {},
   "outputs": [],
   "source": []
  }
 ],
 "metadata": {
  "kernelspec": {
   "display_name": "Python 3",
   "language": "python",
   "name": "python3"
  },
  "language_info": {
   "codemirror_mode": {
    "name": "ipython",
    "version": 3
   },
   "file_extension": ".py",
   "mimetype": "text/x-python",
   "name": "python",
   "nbconvert_exporter": "python",
   "pygments_lexer": "ipython3",
   "version": "3.6.5"
  }
 },
 "nbformat": 4,
 "nbformat_minor": 2
}
